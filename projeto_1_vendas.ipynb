{
 "cells": [
  {
   "cell_type": "markdown",
   "id": "69aa3da1",
   "metadata": {},
   "source": [
    "SELECT\n",
    "    t1.price,\n",
    "    t2.product_category_name\n",
    "    t3.order_purchase_timestamp,\n",
    "    t4.customer_state\n",
    "\n",
    "FROM\n",
    "    olist_order_items_dataset AS t1\n",
    "\n",
    "LEFT JOIN\n",
    "    olist_products_dataset AS t2 ON t1.product_id = t2.product_id\n",
    "\n",
    "LEFT JOIN\n",
    "    olist_orders_dataset AS t3 ON t1.order_id = t3.order_id\n",
    "\n",
    "LEFT JOIN    \n",
    "    olist_customers_dataset AS T4 ON t3.customer_id = t4.customer_id"
   ]
  },
  {
   "cell_type": "code",
   "execution_count": 3,
   "id": "3d247799",
   "metadata": {},
   "outputs": [],
   "source": [
    "import pandas as pd\n",
    "import sqlite3\n",
    "\n",
    "db_path = 'ecommerce.db'\n",
    "query = \"\"\"\n",
    "SELECT\n",
    "    t1.price,\n",
    "    t2.product_category_name,\n",
    "    t3.order_purchase_timestamp,\n",
    "    t4.customer_state\n",
    "FROM\n",
    "    order_items AS t1\n",
    "LEFT JOIN\n",
    "    products AS t2 ON t1.product_id = t2.product_id\n",
    "LEFT JOIN\n",
    "    orders AS t3 ON t1.order_id = t3.order_id\n",
    "LEFT JOIN    \n",
    "    customers AS t4 ON t3.customer_id = t4.customer_id\n",
    "\"\"\"\n",
    "\n",
    "with sqlite3.connect(db_path) as conn:\n",
    "    df_vendas = pd.read_sql_query(query, conn)\n",
    "\n"
   ]
  },
  {
   "cell_type": "code",
   "execution_count": 4,
   "id": "20420b61",
   "metadata": {},
   "outputs": [],
   "source": [
    "df_vendas['order_purchase_timestamp'] = pd.to_datetime(df_vendas['order_purchase_timestamp'])"
   ]
  },
  {
   "cell_type": "code",
   "execution_count": 7,
   "id": "af0cd5d3",
   "metadata": {},
   "outputs": [
    {
     "name": "stdout",
     "output_type": "stream",
     "text": [
      "<class 'pandas.core.frame.DataFrame'>\n",
      "RangeIndex: 112650 entries, 0 to 112649\n",
      "Data columns (total 4 columns):\n",
      " #   Column                    Non-Null Count   Dtype         \n",
      "---  ------                    --------------   -----         \n",
      " 0   price                     112650 non-null  float64       \n",
      " 1   product_category_name     111047 non-null  object        \n",
      " 2   order_purchase_timestamp  112650 non-null  datetime64[ns]\n",
      " 3   customer_state            112650 non-null  object        \n",
      "dtypes: datetime64[ns](1), float64(1), object(2)\n",
      "memory usage: 3.4+ MB\n"
     ]
    }
   ],
   "source": [
    "df_vendas.info()"
   ]
  },
  {
   "cell_type": "code",
   "execution_count": null,
   "id": "1604b37d",
   "metadata": {},
   "outputs": [],
   "source": [
    "import matplotlib.pyplot as plt\n",
    "import seaborn as sns\n",
    "\n",
    "sns.set_theme(style= \"whitegrid\")"
   ]
  }
 ],
 "metadata": {
  "kernelspec": {
   "display_name": "base",
   "language": "python",
   "name": "python3"
  },
  "language_info": {
   "codemirror_mode": {
    "name": "ipython",
    "version": 3
   },
   "file_extension": ".py",
   "mimetype": "text/x-python",
   "name": "python",
   "nbconvert_exporter": "python",
   "pygments_lexer": "ipython3",
   "version": "3.13.5"
  }
 },
 "nbformat": 4,
 "nbformat_minor": 5
}
